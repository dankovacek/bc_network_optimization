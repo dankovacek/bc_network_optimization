{
 "cells": [
  {
   "cell_type": "markdown",
   "id": "9ae24304-6e1f-4965-a2fb-ca9530286811",
   "metadata": {},
   "source": [
    "# Compute Nearest HYSETS Station\n",
    "\n",
    "For each ungauged basin, find the closest HYSETS monitoring location."
   ]
  },
  {
   "cell_type": "code",
   "execution_count": 1,
   "id": "1dcdcb99-2a61-49c3-ae33-cb0d936aec78",
   "metadata": {},
   "outputs": [],
   "source": [
    "import os\n",
    "from time import time\n",
    "import pandas as pd\n",
    "import numpy as np\n",
    "import itertools\n",
    "import multiprocessing as mp\n",
    "import random\n",
    "import geopandas as gpd\n",
    "from sqlalchemy import create_engine\n",
    "\n",
    "import psycopg2\n"
   ]
  },
  {
   "cell_type": "code",
   "execution_count": 2,
   "id": "a63b42da-0d64-4d24-8c5b-f6bee128bbe1",
   "metadata": {},
   "outputs": [],
   "source": [
    "\n",
    "conn_params = {\n",
    "    'dbname': 'basins',\n",
    "    'user': 'postgres',\n",
    "    'password': 'pgpass',\n",
    "    'host': 'localhost',\n",
    "    'port': '5432',\n",
    "    'dbname': 'basins',\n",
    "}\n",
    "schema_name = 'basins_schema'\n",
    "table_name = 'hysets_basins'\n",
    "conn_str = f\"postgresql://{conn_params['user']}:{conn_params['password']}@{conn_params['host']}:{conn_params['port']}/{conn_params['dbname']}\"\n",
    "\n",
    "engine = create_engine(conn_str)\n"
   ]
  },
  {
   "cell_type": "code",
   "execution_count": 5,
   "id": "3f63560d-0023-44a6-b776-4fd14e7843a3",
   "metadata": {},
   "outputs": [
    {
     "name": "stdout",
     "output_type": "stream",
     "text": [
      "Query returned 38426 distances in 17.56 seconds for 08C\n",
      "Query returned 20347 distances in 15.82 seconds for 08D\n",
      "Query returned 54756 distances in 18.58 seconds for 08E\n",
      "Query returned 38588 distances in 17.94 seconds for 08F\n",
      "Query returned 23684 distances in 16.38 seconds for 08G\n",
      "Query returned 100507 distances in 22.47 seconds for 10E\n",
      "Query returned 125217 distances in 21.37 seconds for CLR\n",
      "Query returned 172787 distances in 24.51 seconds for ERK\n",
      "Query returned 166028 distances in 27.64 seconds for FRA\n",
      "Query returned 47842 distances in 18.53 seconds for HAY\n",
      "Query returned 5541 distances in 14.62 seconds for HGW\n",
      "Query returned 163680 distances in 27.14 seconds for LRD\n",
      "Query returned 104650 distances in 22.58 seconds for PCR\n",
      "Query returned 20418 distances in 15.84 seconds for VCI\n",
      "Query returned 44232 distances in 17.23 seconds for WWA\n",
      "Query returned 49442 distances in 17.69 seconds for YKR\n"
     ]
    }
   ],
   "source": [
    "max_distance_query = \"\"\"\n",
    "SELECT A.id AS A_id,\n",
    "       B.id AS B_id,\n",
    "       ST_Distance(A.centroid, B.centroid) AS distance\n",
    "FROM basins_schema.basin_attributes A\n",
    "CROSS JOIN LATERAL (\n",
    "    SELECT id, geom\n",
    "    FROM basins_schema.hysets_basins\n",
    "    ORDER BY A.geom <-> B.geom\n",
    "    LIMIT 1\n",
    ") B;\n",
    "\"\"\"\n",
    "region_codes = ['08A', '08B', '08C', '08D',\n",
    "        '08E', '08F', '08G', '10E',\n",
    "        'CLR', 'ERK', 'FRA', 'HAY',\n",
    "        'HGW', 'LRD', 'PCR', 'VCI', \n",
    "        'WWA', 'YKR']\n",
    "for rc in region_codes[2:]:\n",
    "    indexed_nearest_query = f\"\"\"\n",
    "    SELECT\n",
    "        A.id AS A_id,\n",
    "        A.drainage_area_km2,\n",
    "        B.official_id,\n",
    "        B.id AS nearest_B_id,\n",
    "        B.centroid,\n",
    "        ST_Distance(A.centroid, B.centroid) AS nearest_distance\n",
    "    FROM \n",
    "        basins_schema.basin_attributes A\n",
    "    CROSS JOIN LATERAL\n",
    "        (SELECT\n",
    "             id,\n",
    "             official_id,\n",
    "             centroid\n",
    "         FROM\n",
    "             basins_schema.hysets_basins\n",
    "         ORDER BY\n",
    "             A.centroid <-> centroid\n",
    "         LIMIT 1) B\n",
    "    WHERE A.region_code = '{rc}'\n",
    "    \"\"\"\n",
    "    ta = time()\n",
    "    stn_dists = gpd.read_postgis(indexed_nearest_query, engine, geom_col='centroid')\n",
    "    stn_dists = stn_dists[['official_id', 'drainage_area_km2', 'nearest_distance']]\n",
    "    stn_dists['nearest_distance'] /= 1000\n",
    "    stn_dists['nearest_stn_dist_km'] = stn_dists['nearest_distance'].astype(int)\n",
    "    stn_dists['drainage_area_km2'] = stn_dists['drainage_area_km2'].astype(int)\n",
    "    stn_dists = stn_dists[['official_id', 'drainage_area_km2', 'nearest_stn_dist_km']]\n",
    "    stn_dists.to_csv(f'station_dists/{rc}_dists.csv')\n",
    "    tb = time()\n",
    "    t_tot = (tb - ta) / 60\n",
    "    if t_tot < 1:\n",
    "        print(f'Query returned {len(stn_dists)} distances in {tb-ta:.2f} seconds for {rc}')\n",
    "    else:\n",
    "        print(f'Query returned {len(stn_dists)} distances in {t_tot:.2f} minutes for {rc}')"
   ]
  },
  {
   "cell_type": "code",
   "execution_count": null,
   "id": "dd641211-2f3d-495f-b1f1-eddcfd29b09e",
   "metadata": {},
   "outputs": [],
   "source": []
  },
  {
   "cell_type": "code",
   "execution_count": null,
   "id": "b49eb2ec-8e10-413a-b640-3ef909021f6a",
   "metadata": {},
   "outputs": [],
   "source": []
  }
 ],
 "metadata": {
  "kernelspec": {
   "display_name": "Python 3 (ipykernel)",
   "language": "python",
   "name": "python3"
  },
  "language_info": {
   "codemirror_mode": {
    "name": "ipython",
    "version": 3
   },
   "file_extension": ".py",
   "mimetype": "text/x-python",
   "name": "python",
   "nbconvert_exporter": "python",
   "pygments_lexer": "ipython3",
   "version": "3.10.12"
  }
 },
 "nbformat": 4,
 "nbformat_minor": 5
}
