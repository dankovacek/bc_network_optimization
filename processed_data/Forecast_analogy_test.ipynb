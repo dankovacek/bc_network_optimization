{
 "cells": [
  {
   "cell_type": "code",
   "execution_count": null,
   "id": "f93713c7-bef9-4db9-9cf8-26e9b1852c81",
   "metadata": {},
   "outputs": [],
   "source": [
    "import os\n",
    "import pandas as pd\n",
    "import numpy as np\n",
    "from scipy import stats\n",
    "\n",
    "from bokeh.plotting import figure, show\n",
    "from bokeh.layouts import row, column, gridplot\n",
    "from bokeh.io import output_notebook\n",
    "from bokeh.models import Legend, Label\n",
    "from bokeh.palettes import Vibrant4, RdYlGn4, RdYlGn5\n",
    "\n",
    "\n",
    "from numba import jit\n",
    "from shapely.geometry import Point\n",
    "\n",
    "import geopandas as gpd\n",
    "\n",
    "from scipy.interpolate import interp1d\n",
    "\n",
    "output_notebook()"
   ]
  },
  {
   "cell_type": "code",
   "execution_count": null,
   "id": "6d40cee2-907a-47e0-898a-3bb71e906397",
   "metadata": {},
   "outputs": [],
   "source": [
    "HS_DATA_DIR = '/home/danbot2/code_5820/large_sample_hydrology/common_data/HYSETS_data/'"
   ]
  },
  {
   "cell_type": "code",
   "execution_count": null,
   "id": "7dcc4be3-cbee-4ef2-8466-f3d8d9041d77",
   "metadata": {},
   "outputs": [],
   "source": [
    "hs_properties_path = os.path.join(HS_DATA_DIR, 'HYSETS_watershed_properties.txt')\n",
    "hs_df = pd.read_csv(hs_properties_path, sep=';')\n",
    "hs_df['geometry'] = hs_df.apply(lambda row: Point(row['Centroid_Lon_deg_E'], row['Centroid_Lat_deg_N']), axis=1)\n",
    "hs_df = gpd.GeoDataFrame(hs_df, crs='EPSG:4326')\n",
    "# NAD83 Conus Albers\n",
    "hs_df = hs_df.to_crs(5070)\n",
    "hs_df.set_index('Official_ID', inplace=True)"
   ]
  },
  {
   "cell_type": "code",
   "execution_count": null,
   "id": "16a27173-99c9-4bec-8513-3c1e30466ef6",
   "metadata": {},
   "outputs": [],
   "source": [
    "hs_df['Drainage_Area_km2'].min()"
   ]
  },
  {
   "cell_type": "code",
   "execution_count": null,
   "id": "7597ba04-0c19-4fbe-8a73-ceeed9c7d4f7",
   "metadata": {},
   "outputs": [],
   "source": [
    "def load_data(bitrate):\n",
    "    fname = f'compression_test_results_{bitrate}bits_20240124.csv'\n",
    "    fname = f'compression_test_results_{bitrate}bits_3years_20240124.csv'\n",
    "    df = pd.read_csv(fname)\n",
    "    return df"
   ]
  },
  {
   "cell_type": "code",
   "execution_count": null,
   "id": "6d0a1a14-01d4-4ab3-9315-db4644c23dd0",
   "metadata": {},
   "outputs": [],
   "source": [
    "def compute_spatial_dist(row):\n",
    "    proxy, target = row['proxy'], row['target']\n",
    "    g = hs_df[hs_df.index.isin([proxy, target])].copy()\n",
    "    return g.loc[proxy, 'geometry'].distance(g.loc[target, 'geometry']) / 1000"
   ]
  },
  {
   "cell_type": "code",
   "execution_count": null,
   "id": "59f53c6d-5b73-4c9c-b867-275d59d563b7",
   "metadata": {},
   "outputs": [],
   "source": [
    "stn_pairs = load_data(4)\n",
    "stn_pairs['distance_km'] = stn_pairs.apply(lambda row: compute_spatial_dist(row), axis=1)"
   ]
  },
  {
   "cell_type": "code",
   "execution_count": null,
   "id": "8339a504-606c-4599-b6e3-efb02deba4e8",
   "metadata": {},
   "outputs": [],
   "source": [
    "dfd = {}\n",
    "bitrates = [4, 5, 6, 7, 8]\n",
    "models = ['uniform', 'proportional', 'equiprobable']\n",
    "for b in bitrates:\n",
    "    bdf = load_data(b)\n",
    "    all_equal = bdf[['proxy', 'target']].equals(stn_pairs[['proxy', 'target']])\n",
    "    if all_equal:\n",
    "        bdf['distance_km'] = stn_pairs['distance_km'].values\n",
    "        mind, maxd = bdf['distance_km'].min(), bdf['distance_km'].max()\n",
    "        bdf = bdf.sort_values('distance_km')\n",
    "        bdf.reset_index(inplace=True)\n",
    "        dfd[b] = bdf.copy()\n",
    "    else:\n",
    "        raise Exception('not all rows equal: ', sum(all_equal), len(all_equal))\n"
   ]
  },
  {
   "cell_type": "code",
   "execution_count": null,
   "id": "ea91e0f1-4667-4227-a6f5-77ce74b7c494",
   "metadata": {},
   "outputs": [],
   "source": [
    "def get_bin_vals(br_data, m, b, label):\n",
    "    mean_vals = br_data.loc[i, label][1:-1].split(',')\n",
    "    data = [float(e.strip()) for e in mean_vals]\n",
    "    \n",
    "    edge_label = f'{m}_edges'\n",
    "    # if m.startswith('prop'):\n",
    "    #     edge_label = f'proportional_edges'\n",
    "    # if m.startswith('equip'):\n",
    "    #     edge_label = f'equiprob_edges'\n",
    "    edge_strings = br_data.loc[i, edge_label][1:-1].split(',')\n",
    "    edge_vals = [float(e.strip()) for e in edge_strings]\n",
    "    midpoints = np.power(10, np.multiply(np.add(edge_vals[:-1], edge_vals[1:]), 0.5))\n",
    "    return midpoints, data"
   ]
  },
  {
   "cell_type": "code",
   "execution_count": null,
   "id": "97db8bd0-aa77-49ef-8d30-e4634552b9a8",
   "metadata": {},
   "outputs": [],
   "source": [
    "plots = []\n",
    "n_plots = 100\n",
    "bitrate = 4\n",
    "err_levels = [5, 10, 20, 50, 100]\n",
    "err_clrs = RdYlGn5\n",
    "\n",
    "for i in range(n_plots):\n",
    "    p = figure(width=100, height=100)\n",
    "    \n",
    "    max_err_plus, max_err_minus, x_max = 0, 0, 0\n",
    "    for b in bitrates:\n",
    "        br_data = dfd[b].copy()\n",
    "        target, proxy = br_data.loc[i, 'target'], br_data.loc[i, 'proxy']\n",
    "        target_area = hs_df.loc[target, 'Drainage_Area_km2']\n",
    "        proxy_area = hs_df.loc[proxy, 'Drainage_Area_km2']\n",
    "        area_ratio = np.log10(proxy_area / target_area)\n",
    "        dist_km = br_data.loc[i, 'distance_km']\n",
    "        for m in models:\n",
    "            mean_label = f'UARE_mean_{m}_{b}b'\n",
    "            midpoints, data = get_bin_vals(br_data, m, b, mean_label)\n",
    "            mine, maxe = min(data), max(data)\n",
    "            if mine < max_err_minus:\n",
    "                max_err_minus = mine\n",
    "            if maxe > max_err_plus:\n",
    "                max_err_plus = maxe\n",
    "            if max(midpoints) > x_max:\n",
    "                x_max = max(midpoints)\n",
    "\n",
    "    info_label = f'T={target_area:.0f} P={proxy_area:.0f}km² {dist_km:.1f}km'\n",
    "    p.title = info_label\n",
    "    # area_label = Label(x=0, y=125, x_units='screen', y_units='screen',\n",
    "    #              text=info_label, text_font_size='7pt,\n",
    "    #              border_line_color=None, background_fill_color=None)\n",
    "    # p.add_layout(area_label)\n",
    "    \n",
    "    p.title.text_font_size = '7pt'\n",
    "    max_idx = np.searchsorted(err_levels, max_err_plus)\n",
    "    if max_err_minus >= 0:\n",
    "        min_idx = 0\n",
    "    else:\n",
    "        min_idx = np.searchsorted(err_levels, abs(max_err_minus))\n",
    "\n",
    "    n = 0\n",
    "    for ii in range(len(err_levels)):\n",
    "\n",
    "        clr = err_clrs[n]\n",
    "        if n == 2:\n",
    "            clr = 'gold'\n",
    "        el = err_levels[ii]\n",
    "        if ii == 0:\n",
    "            y1 = [0, 0]\n",
    "        else:\n",
    "            y1 = [err_levels[ii-1], err_levels[ii-1]]\n",
    "        \n",
    "        y2 = [err_levels[ii], err_levels[ii]]\n",
    "        if max_idx >= ii:\n",
    "            p.varea([0, x_max], y1=y1, y2=y2, alpha=0.3, \n",
    "                   color=clr)\n",
    "        if min_idx >= ii:\n",
    "            p.varea([0, x_max], y1=np.multiply(-1.0, y2), y2=np.multiply(-1.0, y1), \n",
    "               alpha=0.3, color=clr)\n",
    "        n += 1\n",
    "\n",
    "    \n",
    "    glyph_sizes = {b: (11-b) for b in bitrates}\n",
    "    alpha_dict = {b: b/10. - 0.1 for b in bitrates}\n",
    "\n",
    "    for b in bitrates:\n",
    "        br_data = dfd[b].copy()\n",
    "        c = 0\n",
    "        for m in models:\n",
    "            mean_label = f'UARE_mean_{m}_{b}b'\n",
    "            midpoints, data = get_bin_vals(br_data, m, b, mean_label)\n",
    "            p.circle(midpoints, data, color=Vibrant4[c], alpha=alpha_dict[b], size=glyph_sizes[b])\n",
    "            c += 1\n",
    "            \n",
    "    p.line([0, x_max], [0, 0], line_width=3,\n",
    "           color='black', line_dash='dotted')\n",
    "\n",
    "    p.xaxis.visible = False\n",
    "    p.yaxis.visible = False\n",
    "    plots.append(p)\n",
    "\n",
    "nc = 0\n",
    "q = figure(width=100, height=100)\n",
    "for m in models:\n",
    "    q.circle([0], [0], color=Vibrant4[nc], legend_label=m, alpha=1.0)\n",
    "    nc += 1\n",
    "nc = 0\n",
    "qq = figure(width=100, height=100)\n",
    "for ll in [5, 10, 20, 50, 100]:\n",
    "    clr = err_clrs[nc]\n",
    "    if nc == 2:\n",
    "        clr = 'khaki'\n",
    "    qq.varea(x=[0], y1=[0], y2=[0], color=clr, legend_label=f'+/-{ll} L/s/km²',\n",
    "    alpha=0.5)\n",
    "    nc += 1\n",
    "    \n",
    "q.xaxis.visible, qq.xaxis.visible = False, False\n",
    "q.yaxis.visible, qq.yaxis.visible = False, False\n",
    "q.xgrid.visible, qq.xgrid.visible = False, False\n",
    "q.ygrid.visible, qq.ygrid.visible = False, False\n",
    "plots.append(q)\n",
    "plots.append(qq)\n"
   ]
  },
  {
   "cell_type": "code",
   "execution_count": null,
   "id": "f5c46e54-d707-4676-bfaf-1b80e5554c06",
   "metadata": {},
   "outputs": [],
   "source": [
    "layout = gridplot(plots, ncols=10, width=150, height=150)"
   ]
  },
  {
   "cell_type": "code",
   "execution_count": null,
   "id": "d1683c47-2e18-418f-8d71-3872c344bb15",
   "metadata": {},
   "outputs": [],
   "source": []
  },
  {
   "cell_type": "code",
   "execution_count": null,
   "id": "f2edf7a5-012b-4748-9b1e-4e9ff7ce321f",
   "metadata": {
    "scrolled": true
   },
   "outputs": [],
   "source": []
  },
  {
   "cell_type": "code",
   "execution_count": null,
   "id": "9a8aaa27-bdb3-456a-b062-92e831446028",
   "metadata": {},
   "outputs": [],
   "source": [
    "show(layout)"
   ]
  },
  {
   "cell_type": "code",
   "execution_count": null,
   "id": "5ef6375d-60a8-4b95-849f-78bdd1ea6cc4",
   "metadata": {},
   "outputs": [],
   "source": []
  }
 ],
 "metadata": {
  "kernelspec": {
   "display_name": "Python 3 (ipykernel)",
   "language": "python",
   "name": "python3"
  },
  "language_info": {
   "codemirror_mode": {
    "name": "ipython",
    "version": 3
   },
   "file_extension": ".py",
   "mimetype": "text/x-python",
   "name": "python",
   "nbconvert_exporter": "python",
   "pygments_lexer": "ipython3",
   "version": "3.10.12"
  }
 },
 "nbformat": 4,
 "nbformat_minor": 5
}
